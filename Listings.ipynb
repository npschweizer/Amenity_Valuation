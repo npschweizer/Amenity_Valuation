{
 "cells": [
  {
   "cell_type": "code",
   "execution_count": null,
   "metadata": {},
   "outputs": [],
   "source": [
    "import pandas as pd\n",
    "import json\n",
    "import csv\n",
    "from matplotlib import pyplot as plt\n",
    "pd.set_option('display.max_rows', None)\n",
    "pd.set_option('display.max_columns', None)\n",
    "import numpy as np\n",
    "import math"
   ]
  },
  {
   "cell_type": "code",
   "execution_count": null,
   "metadata": {},
   "outputs": [],
   "source": [
    "listings_back = pd.read_csv(\"listings.csv\", encoding = \"UTF-8\")"
   ]
  },
  {
   "cell_type": "code",
   "execution_count": null,
   "metadata": {},
   "outputs": [],
   "source": [
    "#DEFINITIONS\n",
    "#Occupancy is an average score generated over the last year + upcoming bookings\n",
    "#Nights booked is over the last year\n",
    "#Mashvisor started integrating with AirBnB since the first day we founded the company - late 2014. \n",
    "#We have data for all U.S listings in a location, storing all listing detailed info, reviews, photos, \n",
    "#host info, and yearly calendar for day per day booking availability and booking price per night. We \n",
    "#currently having 2M+ listings available in our database.Mashvisor also developed an occupancy calculator \n",
    "#algotherm evolved over the last 5 years calculating the occupancy rate for each listing month by month upon \n",
    "#its historical performance and available future bookings. Our algorithms could currently distinguish between \n",
    "#booked days and blocked days from booking, also calculate the estimated monthly rental income for the listings \n",
    "#for future predictions, and availability to provide rental incomes for all the past months for the listing history. \n",
    "#Moreover, we’ve implemented different mathematical algorithms helping us into our calculations, and we’re working \n",
    "#on a new machine learning algorithms would help determining listings outliers, calculated occupancy rates.\n",
    "#Recently, we started the process of reviewing our occupancy rates calculations with verified AirBnB hosts who have \n",
    "#multiple listings over there to guarantee better service introduced for our customers and superiority over our main \n",
    "#competitor AirDna. States breakdown coverage is attached in appendix D."
   ]
  },
  {
   "cell_type": "code",
   "execution_count": null,
   "metadata": {},
   "outputs": [],
   "source": [
    "listings_back.isnull().sum()"
   ]
  },
  {
   "cell_type": "code",
   "execution_count": null,
   "metadata": {},
   "outputs": [],
   "source": [
    "drops = [\"amenities\", \"reviews\", \"url\"]\n",
    "listings_back = listings_back.drop(drops, axis = 1)\n",
    "\n",
    "####Removing 2 observations missing bed count\n",
    "listings_back = listings_back[~listings_back['num_of_beds'].isnull()]\n",
    "\n",
    "####Removing 10 observations zip\n",
    "listings_back = listings_back[~listings_back['zip'].isnull()]\n",
    "\n",
    "####Removing 4 observations missing neighborhood\n",
    "listings_back = listings_back[~listings_back['airbnb_neighborhood'].isnull()]\n",
    "\n",
    "####Removing 7 observations start_rating\n",
    "listings_back = listings_back[~listings_back['start_rating'].isnull()]\n",
    "\n",
    "####imputing 0 consistent with missing num of rooms type\n",
    "####https://www.airbnb.ca/rooms/44503022?source_impression_id=p3_1602010086_Tl4dh9Fvpnn5ZRqK\n",
    "listings_back.loc[listings_back.num_of_rooms.isnull() == True, \"num_of_rooms\"] = 0\n",
    "\n",
    "####27 properties are missing a cleaning fee and no properties have a $0 cleaning fee, so I'm assuming that\n",
    "####a missing value indicates 0\n",
    "listings_back.loc[listings_back.cleaning_fee_native.isnull() == True, 'cleaning_fee_native'] = 0\n",
    "\n",
    "proc_listings_csv_data = listings_back.to_csv('l1_listings.csv', index = False) "
   ]
  }
 ],
 "metadata": {
  "kernelspec": {
   "display_name": "Python 3",
   "language": "python",
   "name": "python3"
  },
  "language_info": {
   "codemirror_mode": {
    "name": "ipython",
    "version": 3
   },
   "file_extension": ".py",
   "mimetype": "text/x-python",
   "name": "python",
   "nbconvert_exporter": "python",
   "pygments_lexer": "ipython3",
   "version": "3.7.6"
  }
 },
 "nbformat": 4,
 "nbformat_minor": 4
}
