{
 "cells": [
  {
   "cell_type": "code",
   "execution_count": null,
   "metadata": {},
   "outputs": [],
   "source": [
    "import pandas as pd\n",
    "import json\n",
    "import csv\n",
    "pd.set_option('display.max_rows', None)\n",
    "pd.set_option('display.max_columns', None)"
   ]
  },
  {
   "cell_type": "markdown",
   "metadata": {},
   "source": [
    "# Initial Pull of Philadelphia Listings"
   ]
  },
  {
   "cell_type": "code",
   "execution_count": null,
   "metadata": {},
   "outputs": [],
   "source": [
    "import http.client\n",
    "\n",
    "conn = http.client.HTTPSConnection(\"rapidapi.p.rapidapi.com\")\n",
    "\n",
    "headers = {\n",
    "    'x-rapidapi-host': \"mashvisor-api.p.rapidapi.com\",\n",
    "    'x-rapidapi-key': \"\"\n",
    "    }\n",
    "dict = {}\n",
    "\n",
    "#conn.request(\"GET\", str(\"/airbnb-property/active-listings?state=PA&page=1&city=Philadelphia&items=20\"), headers=headers)\n",
    "#res = conn.getresponse()\n",
    "#data = res.read()\n",
    "#dict[1] = data\n",
    "#j = pd.json_normalize(json.loads(data)[\"content\"])[\"total_pages\"][0]\n",
    "\n",
    "#for i in range(2,j):\n",
    "#    conn.request(\"GET\", str(\"/airbnb-property/active-listings?state=PA&page=\") + str(i) + str(\"&city=Philadelphia&items=20\"), headers=headers)\n",
    "#    res = conn.getresponse()\n",
    "#    data = res.read()\n",
    "#    dict[i] = data\n"
   ]
  },
  {
   "cell_type": "code",
   "execution_count": null,
   "metadata": {},
   "outputs": [],
   "source": [
    "listings = pd.DataFrame()\n",
    "for i in dict:\n",
    "    listings = pd.concat([listings, pd.json_normalize(json.loads(dict[i])[\"content\"][\"properties\"])], \n",
    "                         axis = 0,\n",
    "                        ignore_index = True)\n",
    "\n",
    "pd.set_option('display.max_rows', None)\n",
    "pd.set_option('display.max_columns', None)\n"
   ]
  },
  {
   "cell_type": "code",
   "execution_count": null,
   "metadata": {},
   "outputs": [],
   "source": [
    "listings_csv_data = listings.to_csv('listings.csv', index = False) "
   ]
  }
 ],
 "metadata": {
  "kernelspec": {
   "display_name": "Python 3",
   "language": "python",
   "name": "python3"
  },
  "language_info": {
   "codemirror_mode": {
    "name": "ipython",
    "version": 3
   },
   "file_extension": ".py",
   "mimetype": "text/x-python",
   "name": "python",
   "nbconvert_exporter": "python",
   "pygments_lexer": "ipython3",
   "version": "3.7.6"
  }
 },
 "nbformat": 4,
 "nbformat_minor": 4
}
